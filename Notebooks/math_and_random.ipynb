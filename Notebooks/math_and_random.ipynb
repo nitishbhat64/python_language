{
 "cells": [
  {
   "cell_type": "code",
   "execution_count": 1,
   "metadata": {},
   "outputs": [
    {
     "name": "stdout",
     "output_type": "stream",
     "text": [
      "[1, 4, 2, 5, 3]\n"
     ]
    }
   ],
   "source": [
    "# shuffle \n",
    "from random import shuffle\n",
    "\n",
    "mylist = [1,2,3,4,5]\n",
    "shuffle(mylist)\n",
    "print(mylist)"
   ]
  },
  {
   "cell_type": "code",
   "execution_count": 12,
   "metadata": {},
   "outputs": [
    {
     "name": "stdout",
     "output_type": "stream",
     "text": [
      "41\n"
     ]
    }
   ],
   "source": [
    "#random int\n",
    "from random import randint\n",
    "\n",
    "newint= randint(1,100)\n",
    "print(newint)"
   ]
  },
  {
   "cell_type": "code",
   "execution_count": 19,
   "metadata": {},
   "outputs": [
    {
     "name": "stdout",
     "output_type": "stream",
     "text": [
      "75\n"
     ]
    }
   ],
   "source": [
    "# with seed\n",
    "import random\n",
    "\n",
    "random.seed(101)\n",
    "newint= randint(1,100)\n",
    "print(newint)\n"
   ]
  },
  {
   "cell_type": "code",
   "execution_count": 26,
   "metadata": {},
   "outputs": [
    {
     "name": "stdout",
     "output_type": "stream",
     "text": [
      "0\n",
      "[4, 3, 2, 9, 10]\n",
      "[6, 2, 4, 1, 10]\n"
     ]
    }
   ],
   "source": [
    "# random element from the list\n",
    "import random\n",
    "mylist = list(range(11))\n",
    "\n",
    "mychoice = random.choice(mylist)\n",
    "print(mychoice)\n",
    "\n",
    "with_replacement = random.choices(population=mylist, k=5)\n",
    "print(with_replacement)\n",
    "\n",
    "without_replacement = random.sample(population=mylist, k=5)\n",
    "print(without_replacement)"
   ]
  },
  {
   "cell_type": "code",
   "execution_count": 35,
   "metadata": {},
   "outputs": [
    {
     "name": "stdout",
     "output_type": "stream",
     "text": [
      "3.199293148275606\n",
      "50.07828460485154\n"
     ]
    }
   ],
   "source": [
    "# uniform and normal(gaussian) distribution\n",
    "import random\n",
    "\n",
    "# start and end range\n",
    "my_uni = random.uniform(0,100)\n",
    "print(my_uni)\n",
    "\n",
    "# mean and standard deviation\n",
    "my_gauss = random.gauss(mu= 50, sigma= 5)\n",
    "print(my_gauss)"
   ]
  },
  {
   "cell_type": "code",
   "execution_count": 14,
   "metadata": {},
   "outputs": [
    {
     "name": "stdout",
     "output_type": "stream",
     "text": [
      "14\n",
      "15\n"
     ]
    }
   ],
   "source": [
    "# floor and ceil\n",
    "import math\n",
    "\n",
    "value = 14.78\n",
    "print(math.floor(value))\n",
    "print(math.ceil(value))"
   ]
  },
  {
   "cell_type": "code",
   "execution_count": 5,
   "metadata": {},
   "outputs": [
    {
     "name": "stdout",
     "output_type": "stream",
     "text": [
      "3.141592653589793\n",
      "2.718281828459045\n",
      "inf\n"
     ]
    }
   ],
   "source": [
    "# constants\n",
    "import math\n",
    "\n",
    "print(math.pi)\n",
    "print(math.e)\n",
    "print(math.inf)"
   ]
  },
  {
   "cell_type": "code",
   "execution_count": 7,
   "metadata": {},
   "outputs": [
    {
     "name": "stdout",
     "output_type": "stream",
     "text": [
      "2.0794415416798357\n",
      "0.9030899869919434\n",
      "3.0\n"
     ]
    }
   ],
   "source": [
    "# logarithms\n",
    "import math\n",
    "value = 8\n",
    "\n",
    "print(math.log(value))\n",
    "print(math.log(value,10))\n",
    "print(math.log2(value))\n"
   ]
  },
  {
   "cell_type": "code",
   "execution_count": 11,
   "metadata": {},
   "outputs": [
    {
     "name": "stdout",
     "output_type": "stream",
     "text": [
      "45.0\n",
      "0.7071067811865475\n",
      "0.9033391107665127\n"
     ]
    }
   ],
   "source": [
    "# trigonometry\n",
    "\n",
    "import math\n",
    "value = math.pi/4\n",
    "degrees = math.degrees(value)\n",
    "print(degrees)\n",
    "\n",
    "print(math.sin(value))\n",
    "\n",
    "#inverse\n",
    "print(math.asin(value))\n"
   ]
  },
  {
   "cell_type": "code",
   "execution_count": null,
   "metadata": {},
   "outputs": [],
   "source": []
  }
 ],
 "metadata": {
  "kernelspec": {
   "display_name": "Python 3",
   "language": "python",
   "name": "python3"
  },
  "language_info": {
   "codemirror_mode": {
    "name": "ipython",
    "version": 3
   },
   "file_extension": ".py",
   "mimetype": "text/x-python",
   "name": "python",
   "nbconvert_exporter": "python",
   "pygments_lexer": "ipython3",
   "version": "3.10.12"
  },
  "orig_nbformat": 4
 },
 "nbformat": 4,
 "nbformat_minor": 2
}
