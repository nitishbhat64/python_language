{
 "cells": [
  {
   "cell_type": "code",
   "execution_count": 3,
   "metadata": {},
   "outputs": [
    {
     "name": "stdout",
     "output_type": "stream",
     "text": [
      "This is the first line\n",
      "And the second line\n",
      "Finally third line\n",
      "\n",
      "['This is the first line\\n', 'And the second line\\n', 'Finally third line\\n']\n"
     ]
    }
   ],
   "source": [
    "# Reading a text file\n",
    "myfile = open('../Resources/a.txt')\n",
    "print(myfile.read()) \n",
    "\n",
    "myfile.seek(0) # cursor back to start\n",
    "lines = myfile.readlines() #read lines as list\n",
    "print(lines)\n",
    "\n",
    "#close the file\n",
    "myfile.close()"
   ]
  },
  {
   "cell_type": "code",
   "execution_count": 4,
   "metadata": {},
   "outputs": [
    {
     "name": "stdout",
     "output_type": "stream",
     "text": [
      "This is the first line\n",
      "And the second line\n",
      "Finally third line\n",
      "\n"
     ]
    }
   ],
   "source": [
    "# Opening file temporary\n",
    "with open('../Resources/a.txt') as myfile:\n",
    "    content = myfile.read()\n",
    "\n",
    "print(content)\n"
   ]
  },
  {
   "cell_type": "code",
   "execution_count": 5,
   "metadata": {},
   "outputs": [
    {
     "name": "stdout",
     "output_type": "stream",
     "text": [
      "Rewritten File : line one\n",
      "Rewritten File : line two\n"
     ]
    }
   ],
   "source": [
    "# writing to text file\n",
    "\n",
    "with open('../Resources/b.txt',mode=\"w\") as myfile:    # File created if not exists\n",
    "    myfile.write(\"Rewritten File : line one\")\n",
    "\n",
    "#appending to file    \n",
    "with open('../Resources/b.txt',mode=\"a\") as myfile:\n",
    "    myfile.write(\"\\nRewritten File : line two\")\n",
    "\n",
    "myfile = open('../Resources/b.txt')\n",
    "print(myfile.read()) "
   ]
  },
  {
   "cell_type": "code",
   "execution_count": null,
   "metadata": {},
   "outputs": [],
   "source": []
  }
 ],
 "metadata": {
  "kernelspec": {
   "display_name": "Python 3",
   "language": "python",
   "name": "python3"
  },
  "language_info": {
   "codemirror_mode": {
    "name": "ipython",
    "version": 3
   },
   "file_extension": ".py",
   "mimetype": "text/x-python",
   "name": "python",
   "nbconvert_exporter": "python",
   "pygments_lexer": "ipython3",
   "version": "3.10.12"
  },
  "orig_nbformat": 4
 },
 "nbformat": 4,
 "nbformat_minor": 2
}
