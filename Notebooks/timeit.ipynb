{
 "cells": [
  {
   "cell_type": "code",
   "execution_count": 1,
   "metadata": {},
   "outputs": [],
   "source": [
    "# timing code\n",
    "\n",
    "def fun1(n):\n",
    "    return [str(x) for x in range(n)]\n",
    "\n",
    "def fun2(n):\n",
    "    return list(map(str,range(n)))\n"
   ]
  },
  {
   "cell_type": "raw",
   "metadata": {},
   "source": [
    "timeit.timeit (stmt, setup, number)\n",
    "\n",
    "stmt = the code to actually run\n",
    "setup = the setup for the stmt\n",
    "number = number of times the stmt must be executed"
   ]
  },
  {
   "cell_type": "code",
   "execution_count": 8,
   "metadata": {},
   "outputs": [
    {
     "data": {
      "text/plain": [
       "0.04615530299997772"
      ]
     },
     "execution_count": 8,
     "metadata": {},
     "output_type": "execute_result"
    }
   ],
   "source": [
    "import timeit\n",
    "\n",
    "stmt = \"\"\"\n",
    "fun1(100)\n",
    "\"\"\"\n",
    "setup = \"\"\"\n",
    "def fun1(n):\n",
    "    return [str(x) for x in range(n)]\n",
    "\"\"\"\n",
    "timeit.timeit(stmt,setup,number=10000)"
   ]
  },
  {
   "cell_type": "code",
   "execution_count": 9,
   "metadata": {},
   "outputs": [
    {
     "data": {
      "text/plain": [
       "0.03234813999961261"
      ]
     },
     "execution_count": 9,
     "metadata": {},
     "output_type": "execute_result"
    }
   ],
   "source": [
    "import timeit\n",
    "\n",
    "stmt = \"\"\"\n",
    "fun2(100)\n",
    "\"\"\"\n",
    "setup = \"\"\"\n",
    "def fun2(n):\n",
    "    return list(map(str,range(n)))\n",
    "\"\"\"\n",
    "timeit.timeit(stmt,setup,number=10000)"
   ]
  },
  {
   "cell_type": "code",
   "execution_count": null,
   "metadata": {},
   "outputs": [],
   "source": []
  }
 ],
 "metadata": {
  "kernelspec": {
   "display_name": "Python 3",
   "language": "python",
   "name": "python3"
  },
  "language_info": {
   "codemirror_mode": {
    "name": "ipython",
    "version": 3
   },
   "file_extension": ".py",
   "mimetype": "text/x-python",
   "name": "python",
   "nbconvert_exporter": "python",
   "pygments_lexer": "ipython3",
   "version": "3.10.12"
  },
  "orig_nbformat": 4
 },
 "nbformat": 4,
 "nbformat_minor": 2
}
