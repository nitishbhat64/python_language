{
 "cells": [
  {
   "cell_type": "code",
   "execution_count": 1,
   "metadata": {},
   "outputs": [
    {
     "name": "stdout",
     "output_type": "stream",
     "text": [
      "(0, 'a')\n",
      "(1, 'b')\n",
      "(2, 'c')\n",
      "(3, 'd')\n",
      "(4, 'e')\n"
     ]
    }
   ],
   "source": [
    "# enumerate\n",
    "myword = \"abcde\"\n",
    "for item in enumerate(myword):\n",
    "    print (item)"
   ]
  },
  {
   "cell_type": "code",
   "execution_count": 2,
   "metadata": {},
   "outputs": [
    {
     "name": "stdout",
     "output_type": "stream",
     "text": [
      "[(1, 'x'), (2, 'y'), (3, 'z')]\n"
     ]
    }
   ],
   "source": [
    "# zip\n",
    "list1 = [1,2,3,4]\n",
    "list2 = ['x','y','z']\n",
    "zippedlist = list(zip(list1,list2))\n",
    "print(zippedlist)"
   ]
  },
  {
   "cell_type": "code",
   "execution_count": 3,
   "metadata": {},
   "outputs": [
    {
     "name": "stdout",
     "output_type": "stream",
     "text": [
      "-5\n",
      "87\n",
      "272\n"
     ]
    }
   ],
   "source": [
    "# min max sum\n",
    "mylist = [10,56,78,-5,3,87,43]\n",
    "\n",
    "print(min(mylist))\n",
    "print(max(mylist))\n",
    "print(sum(mylist))"
   ]
  },
  {
   "cell_type": "code",
   "execution_count": 2,
   "metadata": {},
   "outputs": [
    {
     "name": "stdout",
     "output_type": "stream",
     "text": [
      "[1, 4, 9, 16, 25]\n",
      "['elppA', 'egnarO', 'raeP']\n"
     ]
    }
   ],
   "source": [
    "# map\n",
    "\n",
    "# square of each number in list\n",
    "mylist = [1,2,3,4,5]\n",
    "newlist= list(map(lambda x : x**2,mylist))\n",
    "print(newlist)\n",
    "\n",
    "# reverse the string\n",
    "mylist=[\"Apple\",\"Orange\",\"Pear\"]\n",
    "newlist = list(map(lambda x: x[::-1],mylist))\n",
    "print(newlist)"
   ]
  },
  {
   "cell_type": "code",
   "execution_count": 14,
   "metadata": {},
   "outputs": [
    {
     "name": "stdout",
     "output_type": "stream",
     "text": [
      "[2, 4, 6, 8, 10]\n"
     ]
    }
   ],
   "source": [
    "# filter\n",
    "mylist = [1,2,3,4,5,6,7,8,9,10]\n",
    "\n",
    "newlist = list(filter(lambda x: x%2==0,mylist))\n",
    "print(newlist)"
   ]
  },
  {
   "cell_type": "code",
   "execution_count": 3,
   "metadata": {},
   "outputs": [
    {
     "name": "stdout",
     "output_type": "stream",
     "text": [
      "Help on built-in function len in module builtins:\n",
      "\n",
      "len(obj, /)\n",
      "    Return the number of items in a container.\n",
      "\n",
      "None\n"
     ]
    }
   ],
   "source": [
    "# help\n",
    "print(help(len))"
   ]
  },
  {
   "cell_type": "code",
   "execution_count": 12,
   "metadata": {},
   "outputs": [
    {
     "name": "stdout",
     "output_type": "stream",
     "text": [
      "<class 'float'>\n",
      "<class 'NoneType'>\n"
     ]
    }
   ],
   "source": [
    "# type\n",
    "myfloat = 7.01\n",
    "print(type(myfloat))\n",
    "\n",
    "# Placeholder\n",
    "myitem = None\n",
    "print(type(myitem))"
   ]
  },
  {
   "cell_type": "code",
   "execution_count": 13,
   "metadata": {},
   "outputs": [
    {
     "name": "stdout",
     "output_type": "stream",
     "text": [
      "5\n"
     ]
    }
   ],
   "source": [
    "# len : works on any iterable object\n",
    "mylist = [1,2,3,4,5]\n",
    "print(len(mylist))"
   ]
  },
  {
   "cell_type": "code",
   "execution_count": 18,
   "metadata": {},
   "outputs": [
    {
     "name": "stdout",
     "output_type": "stream",
     "text": [
      "False\n",
      "True\n"
     ]
    }
   ],
   "source": [
    "# in operator\n",
    "mylist = [1,2,3,4,5]\n",
    "result = 7 in mylist\n",
    "print(result)\n",
    "\n",
    "result = \"this\" in \"Are you sure this is it?\"\n",
    "print(result)"
   ]
  },
  {
   "cell_type": "code",
   "execution_count": 17,
   "metadata": {},
   "outputs": [
    {
     "name": "stdout",
     "output_type": "stream",
     "text": [
      "[0, 5, 10, 15, 20, 25, 30, 35, 40, 45, 50, 55, 60, 65, 70, 75, 80, 85, 90, 95, 100]\n"
     ]
    }
   ],
   "source": [
    "# range\n",
    "mylist = list(range(0,101,5))\n",
    "print(mylist)"
   ]
  },
  {
   "cell_type": "code",
   "execution_count": null,
   "metadata": {},
   "outputs": [],
   "source": []
  }
 ],
 "metadata": {
  "kernelspec": {
   "display_name": "Python 3",
   "language": "python",
   "name": "python3"
  },
  "language_info": {
   "codemirror_mode": {
    "name": "ipython",
    "version": 3
   },
   "file_extension": ".py",
   "mimetype": "text/x-python",
   "name": "python",
   "nbconvert_exporter": "python",
   "pygments_lexer": "ipython3",
   "version": "3.10.12"
  },
  "orig_nbformat": 4
 },
 "nbformat": 4,
 "nbformat_minor": 2
}
