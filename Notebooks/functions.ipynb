{
 "cells": [
  {
   "cell_type": "code",
   "execution_count": 5,
   "metadata": {},
   "outputs": [
    {
     "data": {
      "text/plain": [
       "15"
      ]
     },
     "execution_count": 5,
     "metadata": {},
     "output_type": "execute_result"
    }
   ],
   "source": [
    "# Basic function\n",
    "def add(a,b):\n",
    "    \"\"\"\n",
    "    Description of the function\n",
    "    \"\"\"\n",
    "    return a+b\n",
    "\n",
    "\n",
    "add(5,10)"
   ]
  },
  {
   "cell_type": "code",
   "execution_count": 4,
   "metadata": {},
   "outputs": [
    {
     "data": {
      "text/plain": [
       "20"
      ]
     },
     "execution_count": 4,
     "metadata": {},
     "output_type": "execute_result"
    }
   ],
   "source": [
    "# default value\n",
    "def add(a,b=10):\n",
    "    return a+b\n",
    "\n",
    "add(10)"
   ]
  },
  {
   "cell_type": "code",
   "execution_count": 3,
   "metadata": {},
   "outputs": [
    {
     "name": "stdout",
     "output_type": "stream",
     "text": [
      "(15, 5)\n",
      "15 5\n"
     ]
    }
   ],
   "source": [
    "# return multiple values with tuple unpacking\n",
    "def addsub(a,b):\n",
    "    return (a+b,a-b)\n",
    "\n",
    "result = addsub(10,5)\n",
    "sum,diff =(addsub(10,5))\n",
    "print(result)\n",
    "print(sum,diff)"
   ]
  },
  {
   "cell_type": "code",
   "execution_count": 5,
   "metadata": {},
   "outputs": [
    {
     "data": {
      "text/plain": [
       "15"
      ]
     },
     "execution_count": 5,
     "metadata": {},
     "output_type": "execute_result"
    }
   ],
   "source": [
    "# arbitrary number of arguments\n",
    "def add(*args):\n",
    "    sum =0\n",
    "    for x in args:\n",
    "        sum+=x\n",
    "    return sum\n",
    "\n",
    "add(1,2,3,4,5)\n"
   ]
  },
  {
   "cell_type": "code",
   "execution_count": 6,
   "metadata": {},
   "outputs": [
    {
     "data": {
      "text/plain": [
       "150"
      ]
     },
     "execution_count": 6,
     "metadata": {},
     "output_type": "execute_result"
    }
   ],
   "source": [
    "# arbitrary number of keyword arguments\n",
    "def add(**kwargs):\n",
    "    sum = 0\n",
    "    for x in kwargs.values():\n",
    "        sum+=x\n",
    "    return sum\n",
    "\n",
    "add(apple=100, orange = 50)"
   ]
  },
  {
   "cell_type": "code",
   "execution_count": 7,
   "metadata": {},
   "outputs": [
    {
     "name": "stdout",
     "output_type": "stream",
     "text": [
      "(10, 20, 30)\n",
      "{'fruit': 'apple', 'color': 'red'}\n"
     ]
    }
   ],
   "source": [
    "# args and keyword args\n",
    "\n",
    "def fun1(*args,**kwargs):\n",
    "    print(args)\n",
    "    print(kwargs)\n",
    "\n",
    "fun1(10,20,30,fruit='apple',color='red')"
   ]
  },
  {
   "cell_type": "code",
   "execution_count": 1,
   "metadata": {},
   "outputs": [
    {
     "data": {
      "text/plain": [
       "<function __main__.<lambda>(x)>"
      ]
     },
     "execution_count": 1,
     "metadata": {},
     "output_type": "execute_result"
    }
   ],
   "source": [
    "# lambda expressions\n",
    "\n",
    "# Example 1 : even length strings\n",
    "def even_length(x):\n",
    "    return len(x)%2==0\n",
    "#equivalent labmda\n",
    "lambda x : len(x)%2==0\n",
    "\n",
    "#Example 2 reverse string\n",
    "def reverse_string(x):\n",
    "    return x[::-1]\n",
    "#equivalent lambda\n",
    "lambda x : x[::-1]\n",
    "\n"
   ]
  },
  {
   "cell_type": "code",
   "execution_count": 2,
   "metadata": {},
   "outputs": [
    {
     "name": "stdout",
     "output_type": "stream",
     "text": [
      "64\n",
      "512\n"
     ]
    }
   ],
   "source": [
    "# get different functions based on argument value.\n",
    "def get_power(n):\n",
    "    def return_func(x):\n",
    "        return x**n\n",
    "    return return_func\n",
    "\n",
    "square = get_power(2)\n",
    "cube = get_power(3)\n",
    "\n",
    "print(square(8))\n",
    "print(cube(8))"
   ]
  },
  {
   "cell_type": "code",
   "execution_count": null,
   "metadata": {},
   "outputs": [],
   "source": []
  }
 ],
 "metadata": {
  "kernelspec": {
   "display_name": "Python 3",
   "language": "python",
   "name": "python3"
  },
  "language_info": {
   "codemirror_mode": {
    "name": "ipython",
    "version": 3
   },
   "file_extension": ".py",
   "mimetype": "text/x-python",
   "name": "python",
   "nbconvert_exporter": "python",
   "pygments_lexer": "ipython3",
   "version": "3.10.12"
  },
  "orig_nbformat": 4
 },
 "nbformat": 4,
 "nbformat_minor": 2
}
