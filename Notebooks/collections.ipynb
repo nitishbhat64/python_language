{
 "cells": [
  {
   "cell_type": "code",
   "execution_count": 12,
   "metadata": {},
   "outputs": [
    {
     "name": "stdout",
     "output_type": "stream",
     "text": [
      "Counter({2: 4, 3: 3, 1: 1, 4: 1, 6: 1, 7: 1})\n",
      "1\n",
      "[(2, 4), (3, 3), (1, 1), (4, 1), (6, 1), (7, 1)]\n",
      "[(2, 4), (3, 3)]\n",
      "[1, 2, 3, 4, 6, 7]\n"
     ]
    }
   ],
   "source": [
    "#Counter\n",
    "\n",
    "from collections import Counter\n",
    "\n",
    "mylist = [1,2,2,2,2,3,3,3,4,6,7]\n",
    "\n",
    "# a dictionary object\n",
    "counts = Counter(mylist)\n",
    "print(counts)\n",
    "\n",
    "print(counts[7])\n",
    "\n",
    "# sorted descending counts\n",
    "print(counts.most_common())\n",
    "print(counts.most_common(2))\n",
    "\n",
    "# get unique values\n",
    "print(list(counts))"
   ]
  },
  {
   "cell_type": "code",
   "execution_count": 13,
   "metadata": {},
   "outputs": [
    {
     "name": "stdout",
     "output_type": "stream",
     "text": [
      "Counter({'I': 3, 'know': 3, 'this': 1, 'that': 1, 'but': 1, 'dont': 1, 'everything': 1})\n"
     ]
    }
   ],
   "source": [
    "# word count\n",
    "\n",
    "from collections import Counter\n",
    "\n",
    "mysent = \"I know this I know that but I dont know everything\"\n",
    "\n",
    "word_count = Counter(mysent.split())\n",
    "print(word_count)\n"
   ]
  },
  {
   "cell_type": "code",
   "execution_count": 14,
   "metadata": {},
   "outputs": [
    {
     "name": "stdout",
     "output_type": "stream",
     "text": [
      "100\n",
      "-1\n",
      "defaultdict(<function <lambda> at 0x7f7ffd409e10>, {'apple': 100, 'orange': -1})\n"
     ]
    }
   ],
   "source": [
    "# defualt dictionary\n",
    "# assigns defualt value and returns if key not found\n",
    "\n",
    "from collections import defaultdict\n",
    "\n",
    "my_ddict = defaultdict(lambda : -1)\n",
    "\n",
    "my_ddict[\"apple\"] = 100\n",
    "\n",
    "print(my_ddict[\"apple\"])\n",
    "print(my_ddict[\"orange\"])\n",
    "print(my_ddict)"
   ]
  },
  {
   "cell_type": "code",
   "execution_count": 19,
   "metadata": {},
   "outputs": [
    {
     "name": "stdout",
     "output_type": "stream",
     "text": [
      "<class '__main__.Fruit'>\n",
      "150\n",
      "150\n",
      "Fruit(color='red', price=150)\n"
     ]
    }
   ],
   "source": [
    "# named tuple\n",
    "\n",
    "from collections import namedtuple\n",
    "\n",
    "Fruit = namedtuple(\"Fruit\",[\"color\", \"price\"])\n",
    "apple = Fruit(\"red\",150)\n",
    "mango = Fruit(color=\"yellow\",price=200)\n",
    "\n",
    "print(Fruit)\n",
    "print(apple[1])\n",
    "print(apple.price)\n",
    "print(apple)\n"
   ]
  },
  {
   "cell_type": "code",
   "execution_count": null,
   "metadata": {},
   "outputs": [],
   "source": []
  },
  {
   "cell_type": "code",
   "execution_count": null,
   "metadata": {},
   "outputs": [],
   "source": []
  }
 ],
 "metadata": {
  "kernelspec": {
   "display_name": "Python 3",
   "language": "python",
   "name": "python3"
  },
  "language_info": {
   "name": "python",
   "version": "3.10.12"
  },
  "orig_nbformat": 4
 },
 "nbformat": 4,
 "nbformat_minor": 2
}
