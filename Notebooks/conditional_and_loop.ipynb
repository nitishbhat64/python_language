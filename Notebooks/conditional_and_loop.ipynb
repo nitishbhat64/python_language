{
 "cells": [
  {
   "cell_type": "code",
   "execution_count": 1,
   "metadata": {},
   "outputs": [
    {
     "name": "stdout",
     "output_type": "stream",
     "text": [
      "1 is positive\n",
      "-3 is negative\n",
      "6 is positive\n",
      "0 is zero\n"
     ]
    }
   ],
   "source": [
    "mylist = [1,-3,6,0]\n",
    "\n",
    "for x in mylist:\n",
    "    if x>0:\n",
    "        print(f\"{x} is positive\")\n",
    "    elif x == 0 :\n",
    "        print(f\"{x} is zero\")\n",
    "    else:\n",
    "        print(f\"{x} is negative\")\n"
   ]
  },
  {
   "cell_type": "code",
   "execution_count": 2,
   "metadata": {},
   "outputs": [
    {
     "name": "stdout",
     "output_type": "stream",
     "text": [
      "1\n",
      "3\n",
      "5\n",
      "7\n",
      "9\n"
     ]
    }
   ],
   "source": [
    "#range\n",
    "for i in range(1,11,2):\n",
    "    print(i)\n"
   ]
  },
  {
   "cell_type": "code",
   "execution_count": 4,
   "metadata": {},
   "outputs": [
    {
     "name": "stdout",
     "output_type": "stream",
     "text": [
      "10\n",
      "9\n",
      "8\n",
      "7\n",
      "6\n",
      "End of while\n"
     ]
    }
   ],
   "source": [
    "# while loop\n",
    "i =10\n",
    "while i>5:\n",
    "    print(i)\n",
    "    i-=1\n",
    "else:\n",
    "    print(\"End of while\")\n"
   ]
  },
  {
   "cell_type": "code",
   "execution_count": null,
   "metadata": {},
   "outputs": [],
   "source": []
  }
 ],
 "metadata": {
  "kernelspec": {
   "display_name": "Python 3",
   "language": "python",
   "name": "python3"
  },
  "language_info": {
   "codemirror_mode": {
    "name": "ipython",
    "version": 3
   },
   "file_extension": ".py",
   "mimetype": "text/x-python",
   "name": "python",
   "nbconvert_exporter": "python",
   "pygments_lexer": "ipython3",
   "version": "3.10.12"
  },
  "orig_nbformat": 4
 },
 "nbformat": 4,
 "nbformat_minor": 2
}
