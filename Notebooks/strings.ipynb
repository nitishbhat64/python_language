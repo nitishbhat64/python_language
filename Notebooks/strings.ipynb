{
 "cells": [
  {
   "cell_type": "markdown",
   "metadata": {},
   "source": [
    "Strings are immutable"
   ]
  },
  {
   "cell_type": "code",
   "execution_count": 3,
   "metadata": {},
   "outputs": [
    {
     "name": "stdout",
     "output_type": "stream",
     "text": [
      "EFGHIJKLMNOP\n",
      "ABCDEFG\n",
      "CDE\n",
      "ACEGIKMO\n",
      "PONMLKJIHGFEDCBA\n",
      "LMN\n"
     ]
    }
   ],
   "source": [
    "#String spicing\n",
    "mystring = \"ABCDEFGHIJKLMNOP\"\n",
    "\n",
    "print(mystring[4:])\n",
    "print(mystring[:7]) \n",
    "print(mystring[2:5])\n",
    "print(mystring[::2])\n",
    "print(mystring[::-1])\n",
    "print(mystring[-5:-2])\n"
   ]
  },
  {
   "cell_type": "code",
   "execution_count": 4,
   "metadata": {},
   "outputs": [
    {
     "name": "stdout",
     "output_type": "stream",
     "text": [
      "abcabcabc\n"
     ]
    }
   ],
   "source": [
    "# repeat string\n",
    "mystring = \"abc\"\n",
    "print(3*mystring)"
   ]
  },
  {
   "cell_type": "code",
   "execution_count": 9,
   "metadata": {},
   "outputs": [
    {
     "name": "stdout",
     "output_type": "stream",
     "text": [
      "THIS IS A NEW STRING, ISN'T IT?\n",
      "This Is A New String, Isn'T It?\n",
      "False\n",
      "False\n"
     ]
    }
   ],
   "source": [
    "# change cases\n",
    "mystring = \"This is a new string, isn't it?\"\n",
    "print(mystring.upper())\n",
    "print(mystring.title())\n",
    "\n",
    "# check if all characters match case\n",
    "print(mystring.islower())\n",
    "print(mystring.istitle())"
   ]
  },
  {
   "cell_type": "code",
   "execution_count": 10,
   "metadata": {},
   "outputs": [
    {
     "name": "stdout",
     "output_type": "stream",
     "text": [
      "['Nitish', 'bhat', ':', '25']\n",
      "['Nitish bhat ', ' 25']\n",
      "('N', 'i', 'tish bhat : 25')\n"
     ]
    }
   ],
   "source": [
    "# split the string\n",
    "mystring = \"Nitish bhat : 25\"\n",
    "print(mystring.split())\n",
    "print(mystring.split(':'))\n",
    "\n",
    "#partition the string : previous,seperator,remaining\n",
    "print(mystring.partition(\"i\"))"
   ]
  },
  {
   "cell_type": "code",
   "execution_count": 14,
   "metadata": {},
   "outputs": [
    {
     "name": "stdout",
     "output_type": "stream",
     "text": [
      "p q r\n",
      "p-q-r\n"
     ]
    }
   ],
   "source": [
    "# join list into a string\n",
    "mylist = [\"p\",\"q\",\"r\"]\n",
    "string1 = \" \".join(mylist)\n",
    "string2 = \"-\".join(mylist)\n",
    "print(string1)\n",
    "print(string2)\n"
   ]
  },
  {
   "cell_type": "code",
   "execution_count": 21,
   "metadata": {},
   "outputs": [
    {
     "name": "stdout",
     "output_type": "stream",
     "text": [
      "nitish.iitb.ac.in\n",
      "nitish@iitb.ac.in\n"
     ]
    }
   ],
   "source": [
    "# replace\n",
    "mystring = \"nitish iitb ac in\"\n",
    "\n",
    "mystring = mystring.replace(\" \",\".\")\n",
    "print(mystring)\n",
    "\n",
    "mystring = mystring.replace(\".\",\"@\",1)\n",
    "print(mystring)\n",
    "\n"
   ]
  },
  {
   "cell_type": "code",
   "execution_count": 26,
   "metadata": {},
   "outputs": [
    {
     "name": "stdout",
     "output_type": "stream",
     "text": [
      "abcdefghijklmnopqrstuvwxyzABCDEFGHIJKLMNOPQRSTUVWXYZ\n",
      "ABCDEFGHIJKLMNOPQRSTUVWXYZ\n",
      "0123456789abcdefABCDEF\n",
      "!\"#$%&'()*+,-./:;<=>?@[\\]^_`{|}~\n",
      "[' ', '\\t', '\\n', '\\r', '\\x0b', '\\x0c']\n"
     ]
    }
   ],
   "source": [
    "#string module\n",
    "import string\n",
    "\n",
    "print(string.ascii_letters)\n",
    "print(string.ascii_uppercase)\n",
    "print(string.hexdigits)\n",
    "print(string.punctuation)\n",
    "\n",
    "print(list(string.whitespace))\n"
   ]
  },
  {
   "cell_type": "code",
   "execution_count": 4,
   "metadata": {},
   "outputs": [
    {
     "name": "stdout",
     "output_type": "stream",
     "text": [
      "4\n",
      "2\n",
      "23\n"
     ]
    }
   ],
   "source": [
    "mystring = \"This is just a test string\"\n",
    "\n",
    "# count occurances\n",
    "occur = mystring.count('t')\n",
    "print(occur)\n",
    "\n",
    "# get index of first occurance\n",
    "index = mystring.find('i')\n",
    "print(index)\n",
    "\n",
    "# get index  in last 5 letters\n",
    "index = mystring.find('i',-5,-1)\n",
    "print(index)"
   ]
  },
  {
   "cell_type": "code",
   "execution_count": 5,
   "metadata": {},
   "outputs": [
    {
     "name": "stdout",
     "output_type": "stream",
     "text": [
      "----Nitish bhat-----\n"
     ]
    }
   ],
   "source": [
    "# formatiing\n",
    "myname = \"Nitish bhat\"\n",
    "\n",
    "# center with symbols\n",
    "mystring = myname.center(20,'-')\n",
    "print(mystring)\n",
    "\n"
   ]
  },
  {
   "cell_type": "code",
   "execution_count": 6,
   "metadata": {},
   "outputs": [
    {
     "name": "stdout",
     "output_type": "stream",
     "text": [
      "True\n",
      "False\n",
      "True\n",
      "True\n"
     ]
    }
   ],
   "source": [
    "# check for types of characters\n",
    "mystring1 = \"Alpha123\"\n",
    "mystring2 = \"Alpha 123\"\n",
    "mystring3 = \"123556\"\n",
    "mystring4 = \"ABC\"\n",
    "\n",
    "print(mystring1.isalnum())\n",
    "print(mystring2.isalnum())\n",
    "print(mystring3.isdigit())\n",
    "print(mystring4.isalpha())"
   ]
  },
  {
   "cell_type": "code",
   "execution_count": null,
   "metadata": {},
   "outputs": [],
   "source": []
  }
 ],
 "metadata": {
  "kernelspec": {
   "display_name": "Python 3",
   "language": "python",
   "name": "python3"
  },
  "language_info": {
   "codemirror_mode": {
    "name": "ipython",
    "version": 3
   },
   "file_extension": ".py",
   "mimetype": "text/x-python",
   "name": "python",
   "nbconvert_exporter": "python",
   "pygments_lexer": "ipython3",
   "version": "3.10.12"
  },
  "orig_nbformat": 4
 },
 "nbformat": 4,
 "nbformat_minor": 2
}
