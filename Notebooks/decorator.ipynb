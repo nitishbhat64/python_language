{
 "cells": [
  {
   "cell_type": "code",
   "execution_count": 4,
   "metadata": {},
   "outputs": [
    {
     "name": "stdout",
     "output_type": "stream",
     "text": [
      "Extra code before\n",
      "Hello and welcome\n",
      "Extra code after\n"
     ]
    }
   ],
   "source": [
    "# create a new decorator that adds some functionality to existing code\n",
    "# it takes old function as argument\n",
    "# returns new function with extra functionality\n",
    "def new_decorator(some_function):\n",
    "    def wrap_func():\n",
    "        print(\"Extra code before\")\n",
    "        some_function()\n",
    "        print(\"Extra code after\")\n",
    "    return wrap_func\n",
    "\n",
    "#can add/remove one line to add/remove functionality\n",
    "@new_decorator\n",
    "def say_hello():\n",
    "    print(\"Hello and welcome\")\n",
    "\n",
    "say_hello()"
   ]
  },
  {
   "cell_type": "code",
   "execution_count": null,
   "metadata": {},
   "outputs": [],
   "source": []
  }
 ],
 "metadata": {
  "kernelspec": {
   "display_name": "Python 3",
   "language": "python",
   "name": "python3"
  },
  "language_info": {
   "codemirror_mode": {
    "name": "ipython",
    "version": 3
   },
   "file_extension": ".py",
   "mimetype": "text/x-python",
   "name": "python",
   "nbconvert_exporter": "python",
   "pygments_lexer": "ipython3",
   "version": "3.10.12"
  },
  "orig_nbformat": 4
 },
 "nbformat": 4,
 "nbformat_minor": 2
}
