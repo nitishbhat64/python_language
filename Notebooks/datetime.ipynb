{
 "cells": [
  {
   "cell_type": "code",
   "execution_count": 14,
   "metadata": {},
   "outputs": [
    {
     "name": "stdout",
     "output_type": "stream",
     "text": [
      "2023-09-30\n",
      "Sat Sep 30 00:00:00 2023\n",
      "2023\n",
      "645 days, 0:00:00\n",
      "55728000.0\n"
     ]
    }
   ],
   "source": [
    "#date \n",
    "from datetime import date\n",
    "now = date.today()\n",
    "\n",
    "print(now)\n",
    "print(now.ctime())\n",
    "print(now.year)\n",
    "\n",
    "then = date(2021,12,24)\n",
    "elapsed = now - then\n",
    "print(elapsed)\n",
    "print(elapsed.total_seconds())"
   ]
  },
  {
   "cell_type": "code",
   "execution_count": 3,
   "metadata": {},
   "outputs": [
    {
     "name": "stdout",
     "output_type": "stream",
     "text": [
      "15:30:00\n",
      "07:30:00\n"
     ]
    }
   ],
   "source": [
    "# time\n",
    "from datetime import time\n",
    "\n",
    "time1 = time(15,30)\n",
    "print(time1)\n",
    "time1 = time1.replace(hour=7)\n",
    "print(time1)"
   ]
  },
  {
   "cell_type": "code",
   "execution_count": 22,
   "metadata": {},
   "outputs": [
    {
     "name": "stdout",
     "output_type": "stream",
     "text": [
      "2023-09-30 17:53:23.619061\n"
     ]
    }
   ],
   "source": [
    "# datetime\n",
    "from datetime import datetime\n",
    "dt1 = datetime.now()\n",
    "print(dt1)"
   ]
  },
  {
   "cell_type": "code",
   "execution_count": 2,
   "metadata": {},
   "outputs": [
    {
     "name": "stdout",
     "output_type": "stream",
     "text": [
      "1696137578.0640512\n"
     ]
    }
   ],
   "source": [
    "# get os time\n",
    "import time \n",
    "now = time.time()\n",
    "print(now)"
   ]
  },
  {
   "cell_type": "code",
   "execution_count": null,
   "metadata": {},
   "outputs": [],
   "source": []
  }
 ],
 "metadata": {
  "kernelspec": {
   "display_name": "Python 3",
   "language": "python",
   "name": "python3"
  },
  "language_info": {
   "codemirror_mode": {
    "name": "ipython",
    "version": 3
   },
   "file_extension": ".py",
   "mimetype": "text/x-python",
   "name": "python",
   "nbconvert_exporter": "python",
   "pygments_lexer": "ipython3",
   "version": "3.10.12"
  },
  "orig_nbformat": 4
 },
 "nbformat": 4,
 "nbformat_minor": 2
}
