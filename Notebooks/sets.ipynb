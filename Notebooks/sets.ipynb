{
 "cells": [
  {
   "cell_type": "code",
   "execution_count": 11,
   "metadata": {},
   "outputs": [
    {
     "name": "stdout",
     "output_type": "stream",
     "text": [
      "{1, 2}\n",
      "{1, 2, 3, 12}\n",
      "{2, 3, 12}\n",
      "{2, 3}\n",
      "set()\n"
     ]
    }
   ],
   "source": [
    "# Sets : unordered\n",
    "\n",
    "# Create a set\n",
    "myset = set()\n",
    "myset.add(1)\n",
    "myset.add(2)\n",
    "myset.add(1)\n",
    "print(myset)\n",
    "\n",
    "myset=set([1,1,1,12,2,2,2,3])\n",
    "print(myset)\n",
    "\n",
    "#remove elements\n",
    "myset.remove(1)\n",
    "print(myset)\n",
    "\n",
    "# discard if present else nothing\n",
    "myset.discard(13)\n",
    "myset.discard(12)\n",
    "print(myset)\n",
    "\n",
    "# delete all elements\n",
    "myset.clear()\n",
    "print(myset)\n",
    "\n",
    "\n"
   ]
  },
  {
   "cell_type": "code",
   "execution_count": 5,
   "metadata": {},
   "outputs": [
    {
     "name": "stdout",
     "output_type": "stream",
     "text": [
      "{1, 2, 3, 5}\n",
      "{1, 2, 3}\n"
     ]
    }
   ],
   "source": [
    "# copying a set\n",
    "\n",
    "myset = {1,2,3}\n",
    "newset1 = myset\n",
    "newset2 = myset.copy()\n",
    "myset.add(5)\n",
    "print(newset1)\n",
    "print(newset2)"
   ]
  },
  {
   "cell_type": "code",
   "execution_count": 14,
   "metadata": {},
   "outputs": [
    {
     "name": "stdout",
     "output_type": "stream",
     "text": [
      "{1, 2}\n",
      "{1, 2, 3, 4, 5, 6, 7}\n",
      "{3, 4, 5}\n",
      "{1, 2, 6, 7}\n"
     ]
    }
   ],
   "source": [
    "# set operation\n",
    "set1= {1,2,3,4,5}\n",
    "set2= {3,4,5,6,7}\n",
    "\n",
    "result = set1.difference(set2)\n",
    "print(result)\n",
    "\n",
    "print(set1.union(set2))\n",
    "print(set1.intersection(set2))\n",
    "print(set1.symmetric_difference(set2))\n"
   ]
  },
  {
   "cell_type": "code",
   "execution_count": 15,
   "metadata": {},
   "outputs": [
    {
     "name": "stdout",
     "output_type": "stream",
     "text": [
      "{1, 2}\n",
      "{3, 4, 5}\n"
     ]
    }
   ],
   "source": [
    "#  update methods\n",
    "\n",
    "set1= {1,2,3,4,5}\n",
    "set2= {3,4,5,6,7}\n",
    "\n",
    "set1.difference_update(set2)\n",
    "print(set1)\n",
    "\n",
    "set1= {1,2,3,4,5}\n",
    "set1.intersection_update(set2)\n",
    "print(set1)"
   ]
  },
  {
   "cell_type": "code",
   "execution_count": 17,
   "metadata": {},
   "outputs": [
    {
     "name": "stdout",
     "output_type": "stream",
     "text": [
      "True\n",
      "False\n",
      "True\n"
     ]
    }
   ],
   "source": [
    "# check sets\n",
    "set1= {1,2,3,4,5}\n",
    "set2= {2,3,4}\n",
    "set3 = {10,11,12}\n",
    "\n",
    "print(set1.isdisjoint(set3))\n",
    "print(set1.issubset(set2))\n",
    "print(set1.issuperset(set2))"
   ]
  },
  {
   "cell_type": "code",
   "execution_count": null,
   "metadata": {},
   "outputs": [],
   "source": []
  }
 ],
 "metadata": {
  "kernelspec": {
   "display_name": "Python 3",
   "language": "python",
   "name": "python3"
  },
  "language_info": {
   "codemirror_mode": {
    "name": "ipython",
    "version": 3
   },
   "file_extension": ".py",
   "mimetype": "text/x-python",
   "name": "python",
   "nbconvert_exporter": "python",
   "pygments_lexer": "ipython3",
   "version": "3.10.12"
  }
 },
 "nbformat": 4,
 "nbformat_minor": 2
}
