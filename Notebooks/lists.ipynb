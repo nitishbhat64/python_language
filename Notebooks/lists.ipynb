{
 "cells": [
  {
   "cell_type": "code",
   "execution_count": 3,
   "metadata": {},
   "outputs": [
    {
     "name": "stdout",
     "output_type": "stream",
     "text": [
      "[1, 'Nitish', 98.6]\n",
      "[1, 'Nitish Bhat', 98.6]\n"
     ]
    }
   ],
   "source": [
    "#Lists can store different type of objects\n",
    "# Lists are mutable\n",
    "\n",
    "mylist = [1,\"Nitish\",98.6]\n",
    "print(mylist)\n",
    "mylist[1]= \"Nitish Bhat\"\n",
    "print(mylist)"
   ]
  },
  {
   "cell_type": "code",
   "execution_count": 1,
   "metadata": {},
   "outputs": [
    {
     "name": "stdout",
     "output_type": "stream",
     "text": [
      "[1, 2, 3, 4, 5, 6]\n"
     ]
    }
   ],
   "source": [
    "#concatenate lists\n",
    "list1=[1,2,3]\n",
    "list2=[4,5,6]\n",
    "\n",
    "newlist= list1+list2\n",
    "print(newlist)\n"
   ]
  },
  {
   "cell_type": "code",
   "execution_count": 2,
   "metadata": {},
   "outputs": [
    {
     "name": "stdout",
     "output_type": "stream",
     "text": [
      "[1, 2, 3, 4, 5]\n"
     ]
    }
   ],
   "source": [
    "# extend\n",
    "list1 =[1,2,3]\n",
    "list2 =[4,5]\n",
    "list1.extend(list2)\n",
    "print(list1) "
   ]
  },
  {
   "cell_type": "markdown",
   "metadata": {},
   "source": [
    "Useful list methods"
   ]
  },
  {
   "cell_type": "code",
   "execution_count": 10,
   "metadata": {},
   "outputs": [
    {
     "name": "stdout",
     "output_type": "stream",
     "text": [
      "[1, 1, 3, 5, 8, 9]\n",
      "[9, 8, 5, 3, 1, 1]\n"
     ]
    }
   ],
   "source": [
    "# sort and reverse\n",
    "mylist = [1,9,8,5,3,1]\n",
    "\n",
    "mylist.sort()\n",
    "print(mylist)\n",
    "\n",
    "mylist.reverse()\n",
    "print(mylist)"
   ]
  },
  {
   "cell_type": "code",
   "execution_count": 13,
   "metadata": {},
   "outputs": [
    {
     "name": "stdout",
     "output_type": "stream",
     "text": [
      "[1, 2, 3, 4, 5]\n",
      "[2, 3, 4]\n"
     ]
    }
   ],
   "source": [
    "# append and pop\n",
    "mylist = [2,3,4]\n",
    "\n",
    "mylist.append(5)\n",
    "mylist.insert(0,1) #index,object\n",
    "print(mylist)\n",
    "\n",
    "mylist.pop()\n",
    "mylist.pop(0) # pop at index 0\n",
    "print(mylist)"
   ]
  },
  {
   "cell_type": "code",
   "execution_count": 16,
   "metadata": {},
   "outputs": [
    {
     "name": "stdout",
     "output_type": "stream",
     "text": [
      "[0, 1, 4, 9, 16, 25, 36, 49, 64, 81, 100]\n",
      "[1, 9, 25, 49, 81]\n",
      "[0, 1, 4, 27, 16, 125, 36, 343, 64, 729, 100]\n",
      "[2, 20, 200, 4, 40, 400, 6, 60, 600]\n"
     ]
    }
   ],
   "source": [
    "# List comprehension\n",
    "\n",
    "# basic operation on variable\n",
    "mylist = [x**2 for x in range(0,11)]\n",
    "print(mylist)\n",
    "\n",
    "# if condition \n",
    "mylist = [x**2 for x in range(0,11) if x%2 ==1]\n",
    "print(mylist)\n",
    "\n",
    "# if else condition\n",
    "mylist = [x**2 if x%2==0 else x**3 for x in range(0,11)] \n",
    "print(mylist)\n",
    "\n",
    "#nested loops\n",
    "mylist = [x*y for x in [2,4,6] for y in [1,10,100]]\n",
    "print(mylist)\n"
   ]
  },
  {
   "cell_type": "code",
   "execution_count": 2,
   "metadata": {},
   "outputs": [
    {
     "name": "stdout",
     "output_type": "stream",
     "text": [
      "1 2 3 4 5\n"
     ]
    }
   ],
   "source": [
    "# print elements of the list\n",
    "mylist = [1,2,3,4,5]\n",
    "print(*mylist)"
   ]
  },
  {
   "cell_type": "code",
   "execution_count": 3,
   "metadata": {},
   "outputs": [
    {
     "name": "stdout",
     "output_type": "stream",
     "text": [
      "4\n",
      "[1, 1, 4, 2, 2, 2, 2, 3]\n",
      "[1, 1, 4, 2, 2, 2, 3]\n"
     ]
    }
   ],
   "source": [
    "# useful methods\n",
    "\n",
    "#count\n",
    "mylist = [1,1,2,2,2,2,3]\n",
    "print(mylist.count(2))\n",
    "\n",
    "#insert\n",
    "mylist.insert(2,4)\n",
    "print(mylist)\n",
    "\n",
    "# remove first occurance\n",
    "mylist.remove(2)\n",
    "print(mylist)"
   ]
  },
  {
   "cell_type": "code",
   "execution_count": null,
   "metadata": {},
   "outputs": [],
   "source": []
  }
 ],
 "metadata": {
  "kernelspec": {
   "display_name": "Python 3",
   "language": "python",
   "name": "python3"
  },
  "language_info": {
   "codemirror_mode": {
    "name": "ipython",
    "version": 3
   },
   "file_extension": ".py",
   "mimetype": "text/x-python",
   "name": "python",
   "nbconvert_exporter": "python",
   "pygments_lexer": "ipython3",
   "version": "3.10.12"
  },
  "orig_nbformat": 4
 },
 "nbformat": 4,
 "nbformat_minor": 2
}
