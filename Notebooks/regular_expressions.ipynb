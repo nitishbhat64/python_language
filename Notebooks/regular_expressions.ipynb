{
 "cells": [
  {
   "cell_type": "raw",
   "metadata": {},
   "source": [
    "r'<regular expression>' : specify its regex\n",
    "\n",
    "Regular expression character classes\n",
    "\\d : digit              \\D : non digit\n",
    "\\w : word               \\W : non word\n",
    "\\s : whitespace         \\S : non whitespace\n",
    "\n",
    "Useful expressions\n",
    "\\b : word boundary\n",
    "\n",
    "Quantifiers\n",
    "{2,} : minimum 2 occurances\n",
    "{2,5} : 2 to 5 occurances\n",
    "{6} : exactly 6 occurances\n",
    "\n",
    "? : 0 or 1 occurances\n",
    "* : 0 or more occurances\n",
    "+ : 1 or more occurances\n",
    "\n"
   ]
  },
  {
   "cell_type": "code",
   "execution_count": 42,
   "metadata": {},
   "outputs": [
    {
     "name": "stdout",
     "output_type": "stream",
     "text": [
      "<re.Match object; span=(30, 43), match='abc@gmail.com'>\n",
      "abc@gmail.com\n",
      "(30, 43)\n",
      "30 43\n"
     ]
    }
   ],
   "source": [
    "# find first instance\n",
    "import re\n",
    "\n",
    "text = \"This is a sample text and has abc@gmail.com email ids scattered pqr@xyz.com everywhere xyz@yahoo.com\"\n",
    "pattern = r'\\w*\\@\\w*\\.\\w*'\n",
    "\n",
    "match = re.search(pattern,text)\n",
    "print(match) # match object\n",
    "print(match.group())\n",
    "print(match.span()) # start and end index\n",
    "print(match.start(),match.end())"
   ]
  },
  {
   "cell_type": "code",
   "execution_count": 43,
   "metadata": {},
   "outputs": [
    {
     "name": "stdout",
     "output_type": "stream",
     "text": [
      "['abc@gmail.com', 'pqr@xyz.com', 'xyz@yahoo.com']\n",
      "<re.Match object; span=(30, 43), match='abc@gmail.com'>\n",
      "<re.Match object; span=(64, 75), match='pqr@xyz.com'>\n",
      "<re.Match object; span=(87, 100), match='xyz@yahoo.com'>\n"
     ]
    }
   ],
   "source": [
    "# find all matches\n",
    "import re\n",
    "\n",
    "text = \"This is a sample text and has abc@gmail.com email ids scattered pqr@xyz.com everywhere xyz@yahoo.com\"\n",
    "pattern = r'\\w*\\@\\w*\\.\\w*'\n",
    "\n",
    "# list of all matches\n",
    "matches = re.findall(pattern,text)\n",
    "print(matches)\n",
    "\n",
    "# get all match objects\n",
    "for match in re.finditer(pattern,text):\n",
    "    print(match)"
   ]
  },
  {
   "cell_type": "code",
   "execution_count": 44,
   "metadata": {},
   "outputs": [
    {
     "name": "stdout",
     "output_type": "stream",
     "text": [
      "['2']\n",
      "['4356', '44444']\n",
      "['765746', '44444', '343434']\n"
     ]
    }
   ],
   "source": [
    "# quantifiers\n",
    "import re\n",
    "\n",
    "text = \"A bunch of numbers 2,24,4356,765746,44444,343434\"\n",
    "pattern1 = r'\\b\\d\\b' # 1 digit\n",
    "pattern2 = r'\\b\\d{3,5}\\b' # 3 to 5 digits\n",
    "pattern3 = r'\\b\\d{5,}' # 5 or more  digits\n",
    "\n",
    "matches=re.findall(pattern1,text)\n",
    "print(matches)\n",
    "matches=re.findall(pattern2,text)\n",
    "print(matches)\n",
    "matches=re.findall(pattern3,text)\n",
    "print(matches)\n",
    "\n"
   ]
  },
  {
   "cell_type": "code",
   "execution_count": 9,
   "metadata": {},
   "outputs": [
    {
     "name": "stdout",
     "output_type": "stream",
     "text": [
      "<re.Match object; span=(31, 43), match='555-767-8877'>\n",
      "555-767-8877\n",
      "555\n",
      "('555', '767', '8877')\n"
     ]
    }
   ],
   "source": [
    "# groups\n",
    "import re\n",
    "\n",
    "text = \"This is a demo US phone number 555-767-8877\"\n",
    "# create a re object using re.compile\n",
    "pattern = re.compile(r'(\\d{3})-(\\d{3})-(\\d{4})')\n",
    "\n",
    "match = re.search(pattern,text)\n",
    "print(match)\n",
    "print(match.group())\n",
    "print(match.group(1))\n",
    "print(match.groups())\n"
   ]
  },
  {
   "cell_type": "raw",
   "metadata": {},
   "source": [
    "Additional Syntax\n",
    "\n",
    "abc | xyz : OR operator\n",
    "\n",
    "^ : starts with\n",
    "\n",
    "$ : ends with\n",
    "\n",
    "[^abc] : excluding (inside square brackets ^ stands for not)\n",
    " "
   ]
  },
  {
   "cell_type": "code",
   "execution_count": 38,
   "metadata": {},
   "outputs": [
    {
     "name": "stdout",
     "output_type": "stream",
     "text": [
      "<re.Match object; span=(85, 86), match='3'>\n",
      "None\n",
      "<re.Match object; span=(25, 26), match='2'>\n",
      "['hat', 'bat']\n"
     ]
    }
   ],
   "source": [
    "# multi-line input : pass re.MULTILINE as third parameter\n",
    "import re\n",
    "text = \"This is a line with cat \\n2 is in next line with hat\\nThird line has a bat and ends in 3\"\n",
    "pattern1 = r'\\d$'\n",
    "pattern2 = r'^\\d'\n",
    "pattern3 = r'[h|b]at'\n",
    "\n",
    "match = re.search(pattern1,text)\n",
    "print(match)\n",
    "match = re.search(pattern2,text)\n",
    "print(match)\n",
    "match = re.search(pattern2,text,re.MULTILINE)\n",
    "print(match)\n",
    "matches = re.findall(pattern3,text)\n",
    "print(matches)"
   ]
  },
  {
   "cell_type": "code",
   "execution_count": 26,
   "metadata": {},
   "outputs": [
    {
     "name": "stdout",
     "output_type": "stream",
     "text": [
      "['There', 'are', 'puncturations', 'here', 'Do', 'I', 'need', 'to', 'get', 'rid', 'of', 'them']\n",
      "There are puncturations here Do I need to get rid of them\n"
     ]
    }
   ],
   "source": [
    "# remove punctuation\n",
    "import re\n",
    "text = \"There are puncturations!! here. Do I need to get rid of them?\"\n",
    "pattern = r'\\w+'\n",
    "\n",
    "matches = re.findall(pattern,text)\n",
    "print(matches)\n",
    "print(\" \".join(matches))"
   ]
  },
  {
   "cell_type": "code",
   "execution_count": null,
   "metadata": {},
   "outputs": [],
   "source": []
  }
 ],
 "metadata": {
  "kernelspec": {
   "display_name": "Python 3",
   "language": "python",
   "name": "python3"
  },
  "language_info": {
   "codemirror_mode": {
    "name": "ipython",
    "version": 3
   },
   "file_extension": ".py",
   "mimetype": "text/x-python",
   "name": "python",
   "nbconvert_exporter": "python",
   "pygments_lexer": "ipython3",
   "version": "3.10.12"
  },
  "orig_nbformat": 4
 },
 "nbformat": 4,
 "nbformat_minor": 2
}
