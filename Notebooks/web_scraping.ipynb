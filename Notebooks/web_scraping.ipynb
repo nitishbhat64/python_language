{
 "cells": [
  {
   "cell_type": "raw",
   "metadata": {},
   "source": [
    "install the following modules \n",
    "\n",
    "pip install requests\n",
    "pip install bs4\n",
    "pip install lxml"
   ]
  },
  {
   "cell_type": "code",
   "execution_count": 1,
   "metadata": {},
   "outputs": [
    {
     "name": "stdout",
     "output_type": "stream",
     "text": [
      "[<title>Example Domain</title>]\n",
      "Example Domain\n",
      "\n",
      "This domain is for use in illustrative examples in documents. You may use this\n",
      "    domain in literature without prior coordination or asking for permission.\n",
      "\n",
      "More information...\n"
     ]
    }
   ],
   "source": [
    "#Scraping example.com\n",
    "\n",
    "import requests\n",
    "import bs4\n",
    "\n",
    "# get request for the page\n",
    "result = requests.get(\"https://www.example.com/\")\n",
    "\n",
    "# parse the html using beautifulsoup and lxml parser\n",
    "soup = bs4.BeautifulSoup(result.text,\"lxml\")\n",
    "\n",
    "# use css style selection to get elements from the page\n",
    "title = soup.select('title')\n",
    "print(title)\n",
    "\n",
    "# select returns a list of objects\n",
    "# use getText() on objects to retrieve the text without tags\n",
    "title = soup.select('title')[0].getText()\n",
    "print(title)\n",
    "\n",
    "paragraphs = soup.select('p')\n",
    "for p in paragraphs:\n",
    "    print()\n",
    "    print(p.getText())\n"
   ]
  },
  {
   "cell_type": "code",
   "execution_count": 2,
   "metadata": {},
   "outputs": [],
   "source": [
    "# capturing images and saving it\n",
    "import requests\n",
    "import bs4\n",
    "\n",
    "result = requests.get(\"http://books.toscrape.com/\")\n",
    "soup = bs4.BeautifulSoup(result.text,'lxml')\n",
    "\n",
    "#select all img urls\n",
    "image_urls = soup.select(\"img\")\n",
    "\n",
    "#store all images as binary files\n",
    "counter = 1\n",
    "for item in image_urls:\n",
    "    image_link = \"http://books.toscrape.com/\"+ item[\"src\"]\n",
    "    try :\n",
    "        # generate requests for the image\n",
    "        image_data = requests.get(image_link).content\n",
    "        # write the data to file as binary\n",
    "        with open(\"../Resources/Scraped/\"+str(counter),\"wb\") as f:\n",
    "            f.write(image_data)\n",
    "        counter +=1\n",
    "    except: \n",
    "        print(f\"could not download {image_link}\")\n"
   ]
  },
  {
   "cell_type": "code",
   "execution_count": 80,
   "metadata": {},
   "outputs": [
    {
     "name": "stdout",
     "output_type": "stream",
     "text": [
      "Here are the quotes by einstein\n",
      "“The world as we have created it is a process of our thinking. It cannot be changed without changing our thinking.”\n",
      "“There are only two ways to live your life. One is as though nothing is a miracle. The other is as though everything is a miracle.”\n",
      "“Try not to become a man of success. Rather become a man of value.”\n",
      "“If you can't explain it to a six year old, you don't understand it yourself.”\n",
      "“If you want your children to be intelligent, read them fairy tales. If you want them to be more intelligent, read them more fairy tales.”\n",
      "“Logic will get you from A to Z; imagination will get you everywhere.”\n",
      "“Any fool can know. The point is to understand.”\n",
      "“Life is like riding a bicycle. To keep your balance, you must keep moving.”\n",
      "“If I were not a physicist, I would probably be a musician. I often think in music. I live my daydreams in music. I see my life in terms of music.”\n",
      "“Anyone who has never made a mistake has never tried anything new.”\n"
     ]
    }
   ],
   "source": [
    "# Scraping Einstein quotes from quotes.toscrape.com\n",
    "\n",
    "import requests\n",
    "import bs4\n",
    "\n",
    "myquotes =[]\n",
    "page =1 \n",
    "\n",
    "# use page = 9999999 to see what happens at end\n",
    "# loop until end of pages\n",
    "while True:\n",
    "    url = f\"https://quotes.toscrape.com/page/{page}/\"\n",
    "    result = requests.get(url).text\n",
    "    soup = bs4.BeautifulSoup(result,\"lxml\")\n",
    "\n",
    "    if \"No quotes found!\" in soup.text:\n",
    "        break\n",
    "\n",
    "    quotes = soup.select(\".quote\")\n",
    "    for quote in quotes:\n",
    "        # multiple select can be nested\n",
    "        author = quote.select(\".author\")[0].getText()\n",
    "        if author == \"Albert Einstein\":\n",
    "            temp = quote.select(\".text\")[0].getText()\n",
    "            myquotes.append(temp)\n",
    "\n",
    "    page+=1\n",
    "    \n",
    "print(\"Here are the quotes by einstein\")\n",
    "print(*myquotes,sep=\"\\n\")"
   ]
  },
  {
   "cell_type": "code",
   "execution_count": null,
   "metadata": {},
   "outputs": [],
   "source": []
  }
 ],
 "metadata": {
  "kernelspec": {
   "display_name": "Python 3",
   "language": "python",
   "name": "python3"
  },
  "language_info": {
   "codemirror_mode": {
    "name": "ipython",
    "version": 3
   },
   "file_extension": ".py",
   "mimetype": "text/x-python",
   "name": "python",
   "nbconvert_exporter": "python",
   "pygments_lexer": "ipython3",
   "version": "3.10.12"
  },
  "orig_nbformat": 4
 },
 "nbformat": 4,
 "nbformat_minor": 2
}
