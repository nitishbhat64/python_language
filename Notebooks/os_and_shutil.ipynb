{
 "cells": [
  {
   "cell_type": "code",
   "execution_count": 11,
   "metadata": {},
   "outputs": [
    {
     "name": "stdout",
     "output_type": "stream",
     "text": [
      "/home/nitish/Desktop/Learning/python/Notebooks\n",
      "['b.txt', 'a.txt']\n"
     ]
    }
   ],
   "source": [
    "import os\n",
    "\n",
    "# current working directory\n",
    "print(os.getcwd())\n",
    "\n",
    "# list files in path\n",
    "# default path is current directory\n",
    "print(os.listdir(\"../Resources/\"))"
   ]
  },
  {
   "cell_type": "raw",
   "metadata": {},
   "source": [
    "move files : same as mv command\n",
    "\n",
    "import shutil\n",
    "\n",
    "shutil.move(\"../Resources/a.txt\" , os.getcwd())\n",
    "\n",
    "shutil.move(\"a.txt\",\"../Resources/a.txt\")"
   ]
  },
  {
   "cell_type": "raw",
   "metadata": {},
   "source": [
    "remove files and directory\n",
    "\n",
    "os.rmdir(path)  : removes if directory empty\n",
    "\n",
    "shutil.rmtre(path) : removes all files and folders contained in the path"
   ]
  },
  {
   "cell_type": "code",
   "execution_count": 26,
   "metadata": {},
   "outputs": [
    {
     "name": "stdout",
     "output_type": "stream",
     "text": [
      "currently in ../ModulesAndPackages/\n",
      "Subfolders :  ['MyCalculator']\n",
      "Files :  ['main_program.py', 'notes.txt']\n",
      "\n",
      "currently in ../ModulesAndPackages/MyCalculator\n",
      "Subfolders :  ['__pycache__', 'BasicFunc']\n",
      "Files :  ['calculator_module.py', '__init__.py']\n",
      "\n",
      "currently in ../ModulesAndPackages/MyCalculator/__pycache__\n",
      "Subfolders :  []\n",
      "Files :  ['calculator_module.cpython-310.pyc', '__init__.cpython-310.pyc']\n",
      "\n",
      "currently in ../ModulesAndPackages/MyCalculator/BasicFunc\n",
      "Subfolders :  ['__pycache__']\n",
      "Files :  ['addition_module.py', '__init__.py']\n",
      "\n",
      "currently in ../ModulesAndPackages/MyCalculator/BasicFunc/__pycache__\n",
      "Subfolders :  []\n",
      "Files :  ['__init__.cpython-310.pyc', 'addition_module.cpython-310.pyc']\n",
      "\n"
     ]
    }
   ],
   "source": [
    "# trace directory tree structure\n",
    "import os\n",
    "\n",
    "for folder,sub_folders,files in os.walk(\"../ModulesAndPackages/\"):\n",
    "    print(f\"currently in {folder}\")\n",
    "    print(f\"Subfolders :  {sub_folders}\")\n",
    "    print(f\"Files :  {files}\")\n",
    "    print()\n"
   ]
  },
  {
   "cell_type": "code",
   "execution_count": 8,
   "metadata": {},
   "outputs": [],
   "source": [
    "# archive a directory\n",
    "import shutil\n",
    "\n",
    "dir_to_compress = \"../Resources/CompressExample/\"\n",
    "output_filename = \"../Resources/Compressed\"\n",
    "\n",
    "shutil.make_archive(output_filename,\"xztar\",dir_to_compress)\n",
    "shutil.unpack_archive(\"../Resources/Compressed.tar.xz\",\"../Resources/example_unpack\",\"xztar\")\n"
   ]
  },
  {
   "cell_type": "code",
   "execution_count": null,
   "metadata": {},
   "outputs": [],
   "source": []
  }
 ],
 "metadata": {
  "kernelspec": {
   "display_name": "Python 3",
   "language": "python",
   "name": "python3"
  },
  "language_info": {
   "codemirror_mode": {
    "name": "ipython",
    "version": 3
   },
   "file_extension": ".py",
   "mimetype": "text/x-python",
   "name": "python",
   "nbconvert_exporter": "python",
   "pygments_lexer": "ipython3",
   "version": "3.10.12"
  },
  "orig_nbformat": 4
 },
 "nbformat": 4,
 "nbformat_minor": 2
}
