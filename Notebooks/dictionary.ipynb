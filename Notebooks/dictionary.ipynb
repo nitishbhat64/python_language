{
 "cells": [
  {
   "cell_type": "code",
   "execution_count": 2,
   "metadata": {},
   "outputs": [
    {
     "name": "stdout",
     "output_type": "stream",
     "text": [
      "{'red': 1, 'blue': 'color', 'fruits': ['apple', 'orange'], 'this': 5}\n",
      "dict_keys(['red', 'blue', 'fruits', 'this'])\n",
      "dict_values([1, 'color', ['apple', 'orange'], 5])\n",
      "dict_items([('red', 1), ('blue', 'color'), ('fruits', ['apple', 'orange']), ('this', 5)])\n"
     ]
    }
   ],
   "source": [
    "# Dictionary\n",
    "# keys are strings\n",
    "\n",
    "my_dict = {\"red\":1, \"blue\":\"color\",\"fruits\":[\"apple\",\"orange\"]}\n",
    "my_dict[\"this\"]=5\n",
    "\n",
    "print(my_dict)\n",
    "print(my_dict.keys())\n",
    "print(my_dict.values())\n",
    "print(my_dict.items())"
   ]
  },
  {
   "cell_type": "code",
   "execution_count": 12,
   "metadata": {},
   "outputs": [
    {
     "name": "stdout",
     "output_type": "stream",
     "text": [
      "1 2 3 \n",
      "1 11\n",
      "2 22\n",
      "3 33\n"
     ]
    }
   ],
   "source": [
    "#iterating through dictionary\n",
    "my_dict = {\"1\":11,\"2\":22, \"3\":33}\n",
    "\n",
    "for x in my_dict:\n",
    "    print(x,end=\" \")\n",
    "print()\n",
    "\n",
    "for (key,value) in my_dict.items():\n",
    "    print(key,value)\n"
   ]
  },
  {
   "cell_type": "code",
   "execution_count": 11,
   "metadata": {},
   "outputs": [
    {
     "name": "stdout",
     "output_type": "stream",
     "text": [
      "{1: 1, 2: 4, 3: 9, 4: 16, 5: 25, 6: 36, 7: 49, 8: 64, 9: 81}\n",
      "{'a': 1, 'b': 4, 'c': 9}\n"
     ]
    }
   ],
   "source": [
    "# dictionary comprehension\n",
    "my_dict = {x:x**2 for x in range(1,10)}\n",
    "print(my_dict)\n",
    "\n",
    "mylist = ['a','b','c']\n",
    "my_dict = {k:v**2 for k,v in zip(mylist,range(1,4))}\n",
    "print(my_dict)\n"
   ]
  },
  {
   "cell_type": "code",
   "execution_count": null,
   "metadata": {},
   "outputs": [],
   "source": []
  }
 ],
 "metadata": {
  "kernelspec": {
   "display_name": "Python 3",
   "language": "python",
   "name": "python3"
  },
  "language_info": {
   "codemirror_mode": {
    "name": "ipython",
    "version": 3
   },
   "file_extension": ".py",
   "mimetype": "text/x-python",
   "name": "python",
   "nbconvert_exporter": "python",
   "pygments_lexer": "ipython3",
   "version": "3.10.12"
  }
 },
 "nbformat": 4,
 "nbformat_minor": 2
}
