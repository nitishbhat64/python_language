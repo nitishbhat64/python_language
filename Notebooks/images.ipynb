{
 "cells": [
  {
   "cell_type": "code",
   "execution_count": 10,
   "metadata": {},
   "outputs": [],
   "source": [
    "# working with images\n",
    "from PIL import Image\n",
    "\n",
    "#display image\n",
    "myimage = Image.open(\"../Resources/word_matrix.png\")\n",
    "myimage.show()"
   ]
  },
  {
   "cell_type": "code",
   "execution_count": 11,
   "metadata": {},
   "outputs": [
    {
     "name": "stdout",
     "output_type": "stream",
     "text": [
      "PNG\n",
      "(1015, 559)\n"
     ]
    }
   ],
   "source": [
    "from PIL import Image\n",
    "\n",
    "#display details of image\n",
    "myimage = Image.open(\"../Resources/word_matrix.png\")\n",
    "print(myimage.format)\n",
    "print(myimage.size)\n",
    "\n"
   ]
  },
  {
   "cell_type": "code",
   "execution_count": 1,
   "metadata": {},
   "outputs": [],
   "source": [
    "# crop image\n",
    "from PIL import Image\n",
    "\n",
    "myimage = Image.open(\"../Resources/word_matrix.png\")\n",
    "# top left 0,0\n",
    "x,y = myimage.size\n",
    "myimage = myimage.crop((0,0,x/2,y/2))\n",
    "myimage.show()\n",
    "\n",
    "# resize image\n",
    "myimage = myimage.resize((500,250))\n",
    "myimage.show()\n"
   ]
  },
  {
   "cell_type": "code",
   "execution_count": 19,
   "metadata": {},
   "outputs": [],
   "source": [
    "# pasting images and transparency\n",
    "\n",
    "from PIL import Image\n",
    "myimage = Image.open(\"../Resources/word_matrix.png\")\n",
    "mask = Image.open(\"../Resources/mask.png\")\n",
    "mask = mask.resize(myimage.size)\n",
    "# transparency\n",
    "myimage.putalpha(255)\n",
    "mask.putalpha(128)\n",
    "# paste \n",
    "myimage.paste(im=mask,box=(0,0),mask=mask)\n",
    "myimage.show()"
   ]
  },
  {
   "cell_type": "code",
   "execution_count": 16,
   "metadata": {},
   "outputs": [
    {
     "data": {
      "text/plain": [
       "(1015, 559)"
      ]
     },
     "execution_count": 16,
     "metadata": {},
     "output_type": "execute_result"
    }
   ],
   "source": [
    "myimage.size"
   ]
  },
  {
   "cell_type": "code",
   "execution_count": null,
   "metadata": {},
   "outputs": [],
   "source": []
  }
 ],
 "metadata": {
  "kernelspec": {
   "display_name": "Python 3",
   "language": "python",
   "name": "python3"
  },
  "language_info": {
   "codemirror_mode": {
    "name": "ipython",
    "version": 3
   },
   "file_extension": ".py",
   "mimetype": "text/x-python",
   "name": "python",
   "nbconvert_exporter": "python",
   "pygments_lexer": "ipython3",
   "version": "3.10.12"
  },
  "orig_nbformat": 4
 },
 "nbformat": 4,
 "nbformat_minor": 2
}
