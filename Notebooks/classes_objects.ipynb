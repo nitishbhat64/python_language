{
 "cells": [
  {
   "cell_type": "code",
   "execution_count": 8,
   "metadata": {},
   "outputs": [
    {
     "name": "stdout",
     "output_type": "stream",
     "text": [
      "3.142\n",
      "31.419999999999998\n",
      "78.55\n"
     ]
    }
   ],
   "source": [
    "# Basic class and methods\n",
    "\n",
    "class Circle():\n",
    "    # class attributes\n",
    "    pi = 3.142\n",
    "\n",
    "    def __init__(self,radius = 1):\n",
    "        # attributes\n",
    "        self.radius = radius\n",
    "        self.circumference = 2 * self.radius * Circle.pi\n",
    "    \n",
    "    # self used to tie it to object\n",
    "    def area (self):\n",
    "        return Circle.pi*(self.radius**2)\n",
    "    \n",
    "\n",
    "\n",
    "mycircle = Circle(5)\n",
    "print(mycircle.pi) # same for all objects of the class\n",
    "print(mycircle.circumference)\n",
    "print(mycircle.area())"
   ]
  },
  {
   "cell_type": "code",
   "execution_count": 12,
   "metadata": {},
   "outputs": [
    {
     "name": "stdout",
     "output_type": "stream",
     "text": [
      "78.55\n",
      "25\n",
      "78.55\n",
      "25\n"
     ]
    }
   ],
   "source": [
    "# Polymorphism\n",
    "\n",
    "# Two or more classes with same method name\n",
    "class Circle():\n",
    "    def __init__(self,radius):\n",
    "        self.radius = radius\n",
    "    def area(self):\n",
    "        return 3.142 * (self.radius ** 2)\n",
    "    \n",
    "class Square():\n",
    "    def __init__(self,side):\n",
    "        self.side = side\n",
    "    def area(self):\n",
    "        return self.side**2\n",
    "    \n",
    "mycircle = Circle(5)\n",
    "mysquare = Square(5)\n",
    "\n",
    "# A function that takes object and calls its area method\n",
    "def find_area(shape):\n",
    "    print(shape.area())\n",
    "\n",
    "find_area(mycircle)\n",
    "find_area(mysquare)\n",
    "\n",
    "# for loop also can be used\n",
    "for shape in [mycircle,mysquare]:\n",
    "    print(shape.area())"
   ]
  },
  {
   "cell_type": "code",
   "execution_count": 2,
   "metadata": {},
   "outputs": [
    {
     "name": "stdout",
     "output_type": "stream",
     "text": [
      "10000\n",
      "10500.0\n"
     ]
    }
   ],
   "source": [
    "# inheritance\n",
    "\n",
    "class Account():\n",
    "    def __init__(self,balance):\n",
    "        self.balance = balance\n",
    "    \n",
    "    def show_balance(self):\n",
    "        print(self.balance)\n",
    "\n",
    "# SavingsAccount inherits Account\n",
    "class SavingsAccount(Account):\n",
    "    interest = 0.05\n",
    "    def __init__(self,account_no,balance):\n",
    "        # Account.__init__(self,balance) # Can also call constructor of parent directly\n",
    "        super().__init__(balance) # no need to pass self explicitly\n",
    "        self.account_no = account_no\n",
    "    def add_interest(self):\n",
    "        self.balance +=self.balance * SavingsAccount.interest\n",
    "\n",
    "\n",
    "myaccount = SavingsAccount(101,10000)\n",
    "myaccount.show_balance()\n",
    "myaccount.add_interest()\n",
    "myaccount.show_balance()"
   ]
  },
  {
   "cell_type": "code",
   "execution_count": 16,
   "metadata": {},
   "outputs": [],
   "source": [
    "# abstract method\n",
    "\n",
    "class Shape():\n",
    "    def __init__(self):\n",
    "        self.type = \"2D Shape\"\n",
    "    def area():\n",
    "        raise NotImplementedError(\"Subclass should implement this abstract method\")"
   ]
  },
  {
   "cell_type": "code",
   "execution_count": 22,
   "metadata": {},
   "outputs": [
    {
     "name": "stdout",
     "output_type": "stream",
     "text": [
      "Kiss of deception\n",
      "492\n",
      "Deleted book\n"
     ]
    }
   ],
   "source": [
    "# special methods\n",
    "\n",
    "class Book():\n",
    "    def __init__(self,title,pages):\n",
    "        self.title = title\n",
    "        self.pages = pages\n",
    "\n",
    "    def __str__(self):\n",
    "        return self.title\n",
    "    \n",
    "    def __len__(self):\n",
    "        return self.pages\n",
    "    \n",
    "    def __del__(self):\n",
    "        print(\"Deleted book\")\n",
    "    \n",
    "mybook = Book(\"Kiss of deception\", 492)\n",
    "print(mybook)\n",
    "print(len(mybook))\n",
    "del mybook"
   ]
  },
  {
   "cell_type": "code",
   "execution_count": null,
   "metadata": {},
   "outputs": [],
   "source": []
  }
 ],
 "metadata": {
  "kernelspec": {
   "display_name": "Python 3",
   "language": "python",
   "name": "python3"
  },
  "language_info": {
   "codemirror_mode": {
    "name": "ipython",
    "version": 3
   },
   "file_extension": ".py",
   "mimetype": "text/x-python",
   "name": "python",
   "nbconvert_exporter": "python",
   "pygments_lexer": "ipython3",
   "version": "3.10.12"
  },
  "orig_nbformat": 4
 },
 "nbformat": 4,
 "nbformat_minor": 2
}
