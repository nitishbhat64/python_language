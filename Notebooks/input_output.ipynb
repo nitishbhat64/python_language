{
 "cells": [
  {
   "cell_type": "code",
   "execution_count": 5,
   "metadata": {},
   "outputs": [
    {
     "name": "stdout",
     "output_type": "stream",
     "text": [
      "first number : 10 Second number : 100\n",
      "first number : 10 Second number : 100\n",
      "The number with 5 decimal points :7.76923\n"
     ]
    }
   ],
   "source": [
    "#.format method\n",
    "a=10\n",
    "b=100\n",
    "print(\"first number : {0} Second number : {1}\".format(a,b))\n",
    "print(\"first number : {first} Second number : {second}\".format(first=a,second=b))\n",
    "\n",
    "# precision =  key:width.precision\n",
    "result = 101/13\n",
    "print(\"The number with 5 decimal points :{r:1.5f}\".format(r = result))\n"
   ]
  },
  {
   "cell_type": "code",
   "execution_count": 4,
   "metadata": {},
   "outputs": [
    {
     "name": "stdout",
     "output_type": "stream",
     "text": [
      "first number : 10 Second number : 100\n",
      "The result with 5 decimal points :7.76923\n"
     ]
    }
   ],
   "source": [
    "# f string method\n",
    "a = 10\n",
    "b = 100\n",
    "print(f\"first number : {a} Second number : {b}\")\n",
    "result = 101/13\n",
    "print(f\"The result with 5 decimal points :{result:1.5f}\")\n"
   ]
  },
  {
   "cell_type": "code",
   "execution_count": 1,
   "metadata": {},
   "outputs": [
    {
     "name": "stdout",
     "output_type": "stream",
     "text": [
      "10,20\n",
      "\n",
      "End\n"
     ]
    }
   ],
   "source": [
    "# seperator and end\n",
    "a = 10\n",
    "b = 20\n",
    "print(a,b,sep=\",\",end=\"\\n\\n\")\n",
    "print(\"End\")"
   ]
  },
  {
   "cell_type": "code",
   "execution_count": 3,
   "metadata": {},
   "outputs": [
    {
     "name": "stdout",
     "output_type": "stream",
     "text": [
      "Hello nitish bhat\n"
     ]
    }
   ],
   "source": [
    "# Take user input\n",
    "name = input(\"type your name\\n\")\n",
    "print(f\"Hello {name}\")\n"
   ]
  },
  {
   "cell_type": "code",
   "execution_count": 4,
   "metadata": {},
   "outputs": [
    {
     "name": "stdout",
     "output_type": "stream",
     "text": [
      "45\n",
      "<class 'int'>\n"
     ]
    }
   ],
   "source": [
    "# integer user input\n",
    "age = int(input(\"Enter you age \\n\"))\n",
    "print(age)\n",
    "print(type(age))"
   ]
  },
  {
   "cell_type": "code",
   "execution_count": 2,
   "metadata": {},
   "outputs": [
    {
     "name": "stdout",
     "output_type": "stream",
     "text": [
      "Invalid input\n"
     ]
    }
   ],
   "source": [
    "# validate if user enters integer\n",
    "value = input(\"Enter a number\")\n",
    "\n",
    "if(value.isdigit()):\n",
    "    print(\"Valid input\")\n",
    "    value = int(value)\n",
    "else:\n",
    "    print(\"Invalid input\")\n"
   ]
  },
  {
   "cell_type": "code",
   "execution_count": null,
   "metadata": {},
   "outputs": [],
   "source": []
  }
 ],
 "metadata": {
  "kernelspec": {
   "display_name": "Python 3",
   "language": "python",
   "name": "python3"
  },
  "language_info": {
   "codemirror_mode": {
    "name": "ipython",
    "version": 3
   },
   "file_extension": ".py",
   "mimetype": "text/x-python",
   "name": "python",
   "nbconvert_exporter": "python",
   "pygments_lexer": "ipython3",
   "version": "3.10.12"
  },
  "orig_nbformat": 4
 },
 "nbformat": 4,
 "nbformat_minor": 2
}
