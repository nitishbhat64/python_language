{
 "cells": [
  {
   "cell_type": "markdown",
   "metadata": {},
   "source": [
    "Generators save memory by generating next value one by one instead of keeping entire list in memory\n",
    "\n",
    "yield : keyword to return generated values."
   ]
  },
  {
   "cell_type": "code",
   "execution_count": 14,
   "metadata": {},
   "outputs": [
    {
     "name": "stdout",
     "output_type": "stream",
     "text": [
      "<generator object fib_gen at 0x7f8b67799b60>\n",
      "1 1 2 3 5 8 13 21 34 55 \n",
      "1\n",
      "1\n",
      "2\n",
      "3\n",
      "5\n",
      "8\n",
      "13\n",
      "21\n",
      "34\n",
      "55\n"
     ]
    }
   ],
   "source": [
    "# Generator for generate n fibonacci numbers\n",
    "def fib_gen(n):\n",
    "    first =1\n",
    "    second = 1\n",
    "    for i in range(n):\n",
    "        yield first\n",
    "        first,second = second,first+second\n",
    "\n",
    "# generator object\n",
    "print(fib_gen(10))\n",
    "\n",
    "# can iterate through it\n",
    "for x in fib_gen(10):\n",
    "    print(x,end=\" \")\n",
    "print()\n",
    "\n",
    "# next(<generator>) : gives next value to be produced by generator\n",
    "g=fib_gen(10)\n",
    "for i in range(10):\n",
    "    print(next(g))\n",
    "# generate StopIteration exception on end"
   ]
  },
  {
   "cell_type": "code",
   "execution_count": 16,
   "metadata": {},
   "outputs": [
    {
     "name": "stdout",
     "output_type": "stream",
     "text": [
      "N\n",
      "i\n",
      "t\n"
     ]
    }
   ],
   "source": [
    "# iterator\n",
    "mystring = \"Nitish\"\n",
    "my_iter = iter(mystring)\n",
    "\n",
    "print(next(my_iter))\n",
    "print(next(my_iter))\n",
    "print(next(my_iter))"
   ]
  },
  {
   "cell_type": "code",
   "execution_count": 19,
   "metadata": {},
   "outputs": [
    {
     "name": "stdout",
     "output_type": "stream",
     "text": [
      "<generator object <genexpr> at 0x7f8b67310c10>\n",
      "[12, 14, 16, 18]\n"
     ]
    }
   ],
   "source": [
    "# generator comprehension\n",
    "\n",
    "my_gen = (x*2 for x in range(10) if x > 5)\n",
    "print(my_gen)\n",
    "\n",
    "print(list(my_gen))"
   ]
  },
  {
   "cell_type": "code",
   "execution_count": null,
   "metadata": {},
   "outputs": [],
   "source": []
  }
 ],
 "metadata": {
  "kernelspec": {
   "display_name": "Python 3",
   "language": "python",
   "name": "python3"
  },
  "language_info": {
   "codemirror_mode": {
    "name": "ipython",
    "version": 3
   },
   "file_extension": ".py",
   "mimetype": "text/x-python",
   "name": "python",
   "nbconvert_exporter": "python",
   "pygments_lexer": "ipython3",
   "version": "3.10.12"
  },
  "orig_nbformat": 4
 },
 "nbformat": 4,
 "nbformat_minor": 2
}
