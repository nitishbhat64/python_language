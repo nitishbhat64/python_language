{
 "cells": [
  {
   "cell_type": "code",
   "execution_count": 7,
   "metadata": {},
   "outputs": [
    {
     "name": "stdout",
     "output_type": "stream",
     "text": [
      "Invalid number\n",
      "Always executes\n",
      "Obtained number 25 sucessfully\n",
      "Always executes\n"
     ]
    }
   ],
   "source": [
    "def get_integer():\n",
    "    while True:\n",
    "        try:\n",
    "            # code to be attempted\n",
    "            value = int(input(\"Enter a number\"))\n",
    "        except ValueError:\n",
    "            # Execute on Value Error exception\n",
    "            print(\"Invalid number\")\n",
    "            continue\n",
    "        except:\n",
    "            # Execute on other exceptions\n",
    "            print(\"Unknown error\")\n",
    "        else:\n",
    "            # Execute if no exception\n",
    "            print(f\"Obtained number {value} sucessfully\")\n",
    "            break\n",
    "        finally:\n",
    "            # Always executes despite exceptions\n",
    "            print(\"Always executes\")\n",
    "\n",
    "get_integer()"
   ]
  },
  {
   "cell_type": "code",
   "execution_count": null,
   "metadata": {},
   "outputs": [],
   "source": []
  }
 ],
 "metadata": {
  "kernelspec": {
   "display_name": "Python 3",
   "language": "python",
   "name": "python3"
  },
  "language_info": {
   "codemirror_mode": {
    "name": "ipython",
    "version": 3
   },
   "file_extension": ".py",
   "mimetype": "text/x-python",
   "name": "python",
   "nbconvert_exporter": "python",
   "pygments_lexer": "ipython3",
   "version": "3.10.12"
  },
  "orig_nbformat": 4
 },
 "nbformat": 4,
 "nbformat_minor": 2
}
