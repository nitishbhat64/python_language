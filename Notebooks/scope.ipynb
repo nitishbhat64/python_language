{
 "cells": [
  {
   "cell_type": "markdown",
   "metadata": {},
   "source": [
    "LEGB : Local -> Enclosing -> Global -> Built-in"
   ]
  },
  {
   "cell_type": "code",
   "execution_count": 5,
   "metadata": {},
   "outputs": [
    {
     "name": "stdout",
     "output_type": "stream",
     "text": [
      "Hello local\n"
     ]
    }
   ],
   "source": [
    "name = \"Global\"\n",
    "\n",
    "def outer():\n",
    "    name=\"Enclosing\"\n",
    "    def inner():\n",
    "        name = \"local\"\n",
    "        print(f\"Hello {name}\")\n",
    "    inner()\n",
    "\n",
    "outer()"
   ]
  },
  {
   "cell_type": "code",
   "execution_count": 6,
   "metadata": {},
   "outputs": [
    {
     "name": "stdout",
     "output_type": "stream",
     "text": [
      "Hello Enclosing\n"
     ]
    }
   ],
   "source": [
    "name = \"Global\"\n",
    "\n",
    "def outer():\n",
    "    name=\"Enclosing\"\n",
    "    def inner():\n",
    "        print(f\"Hello {name}\")\n",
    "    inner()\n",
    "\n",
    "\n",
    "outer()"
   ]
  },
  {
   "cell_type": "code",
   "execution_count": 7,
   "metadata": {},
   "outputs": [
    {
     "name": "stdout",
     "output_type": "stream",
     "text": [
      "Hello Global\n"
     ]
    }
   ],
   "source": [
    "name = \"Global\"\n",
    "\n",
    "def outer():\n",
    "    def inner():\n",
    "        print(f\"Hello {name}\")\n",
    "    inner()\n",
    "\n",
    "\n",
    "outer()"
   ]
  },
  {
   "cell_type": "code",
   "execution_count": 12,
   "metadata": {},
   "outputs": [
    {
     "name": "stdout",
     "output_type": "stream",
     "text": [
      "<built-in function len>\n"
     ]
    }
   ],
   "source": [
    "# built-in\n",
    "print(len)"
   ]
  },
  {
   "cell_type": "code",
   "execution_count": 13,
   "metadata": {},
   "outputs": [
    {
     "name": "stdout",
     "output_type": "stream",
     "text": [
      "global\n"
     ]
    }
   ],
   "source": [
    "# locally reassigned inside functions\n",
    "\n",
    "name = \"global\"\n",
    "\n",
    "def outer():\n",
    "    name = \"local\"\n",
    "\n",
    "outer()\n",
    "print(name)"
   ]
  },
  {
   "cell_type": "code",
   "execution_count": 11,
   "metadata": {},
   "outputs": [
    {
     "name": "stdout",
     "output_type": "stream",
     "text": [
      "new global\n"
     ]
    }
   ],
   "source": [
    "# Using global variable inside a function \n",
    "#avoid this unless necessary : instead pass as parameter and reassign\n",
    "\n",
    "name = \"global\"\n",
    "\n",
    "def outer():\n",
    "    global name\n",
    "    name = \"new global\"\n",
    "\n",
    "outer()\n",
    "print(name)\n"
   ]
  },
  {
   "cell_type": "code",
   "execution_count": null,
   "metadata": {},
   "outputs": [],
   "source": []
  }
 ],
 "metadata": {
  "kernelspec": {
   "display_name": "Python 3",
   "language": "python",
   "name": "python3"
  },
  "language_info": {
   "codemirror_mode": {
    "name": "ipython",
    "version": 3
   },
   "file_extension": ".py",
   "mimetype": "text/x-python",
   "name": "python",
   "nbconvert_exporter": "python",
   "pygments_lexer": "ipython3",
   "version": "3.10.12"
  },
  "orig_nbformat": 4
 },
 "nbformat": 4,
 "nbformat_minor": 2
}
